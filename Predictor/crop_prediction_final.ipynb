{
  "nbformat": 4,
  "nbformat_minor": 0,
  "metadata": {
    "colab": {
      "name": "crop_prediction_final (1).ipynb",
      "provenance": []
    },
    "kernelspec": {
      "name": "python3",
      "display_name": "Python 3"
    }
  },
  "cells": [
    {
      "cell_type": "code",
      "metadata": {
        "id": "byFUgnoYhAI2",
        "colab_type": "code",
        "colab": {}
      },
      "source": [
        "import numpy as np\n",
        "import matplotlib.pyplot as plt\n",
        "import pandas as pd"
      ],
      "execution_count": null,
      "outputs": []
    },
    {
      "cell_type": "code",
      "metadata": {
        "id": "YsQbGsuWhMjB",
        "colab_type": "code",
        "colab": {
          "base_uri": "https://localhost:8080/",
          "height": 197
        },
        "outputId": "09485419-3a86-4e57-ce4f-2806adaca52d"
      },
      "source": [
        "df = pd.read_csv('/content/crop.csv')\n",
        "df.head()"
      ],
      "execution_count": null,
      "outputs": [
        {
          "output_type": "execute_result",
          "data": {
            "text/html": [
              "<div>\n",
              "<style scoped>\n",
              "    .dataframe tbody tr th:only-of-type {\n",
              "        vertical-align: middle;\n",
              "    }\n",
              "\n",
              "    .dataframe tbody tr th {\n",
              "        vertical-align: top;\n",
              "    }\n",
              "\n",
              "    .dataframe thead th {\n",
              "        text-align: right;\n",
              "    }\n",
              "</style>\n",
              "<table border=\"1\" class=\"dataframe\">\n",
              "  <thead>\n",
              "    <tr style=\"text-align: right;\">\n",
              "      <th></th>\n",
              "      <th>State_Name</th>\n",
              "      <th>District_Name</th>\n",
              "      <th>Crop_Year</th>\n",
              "      <th>Season</th>\n",
              "      <th>Crop</th>\n",
              "      <th>Area</th>\n",
              "      <th>Production</th>\n",
              "    </tr>\n",
              "  </thead>\n",
              "  <tbody>\n",
              "    <tr>\n",
              "      <th>0</th>\n",
              "      <td>Andhra Pradesh</td>\n",
              "      <td>ANANTAPUR</td>\n",
              "      <td>1997</td>\n",
              "      <td>Rabi</td>\n",
              "      <td>Wheat</td>\n",
              "      <td>300.0</td>\n",
              "      <td>200.0</td>\n",
              "    </tr>\n",
              "    <tr>\n",
              "      <th>1</th>\n",
              "      <td>Andhra Pradesh</td>\n",
              "      <td>ANANTAPUR</td>\n",
              "      <td>1998</td>\n",
              "      <td>Rabi</td>\n",
              "      <td>Wheat</td>\n",
              "      <td>400.0</td>\n",
              "      <td>200.0</td>\n",
              "    </tr>\n",
              "    <tr>\n",
              "      <th>2</th>\n",
              "      <td>Andhra Pradesh</td>\n",
              "      <td>ANANTAPUR</td>\n",
              "      <td>1999</td>\n",
              "      <td>Rabi</td>\n",
              "      <td>Wheat</td>\n",
              "      <td>439.0</td>\n",
              "      <td>294.0</td>\n",
              "    </tr>\n",
              "    <tr>\n",
              "      <th>3</th>\n",
              "      <td>Andhra Pradesh</td>\n",
              "      <td>ANANTAPUR</td>\n",
              "      <td>2000</td>\n",
              "      <td>Rabi</td>\n",
              "      <td>Wheat</td>\n",
              "      <td>520.0</td>\n",
              "      <td>297.0</td>\n",
              "    </tr>\n",
              "    <tr>\n",
              "      <th>4</th>\n",
              "      <td>Andhra Pradesh</td>\n",
              "      <td>ANANTAPUR</td>\n",
              "      <td>2001</td>\n",
              "      <td>Rabi</td>\n",
              "      <td>Wheat</td>\n",
              "      <td>307.0</td>\n",
              "      <td>213.0</td>\n",
              "    </tr>\n",
              "  </tbody>\n",
              "</table>\n",
              "</div>"
            ],
            "text/plain": [
              "       State_Name District_Name  Crop_Year  ...   Crop   Area  Production\n",
              "0  Andhra Pradesh     ANANTAPUR       1997  ...  Wheat  300.0       200.0\n",
              "1  Andhra Pradesh     ANANTAPUR       1998  ...  Wheat  400.0       200.0\n",
              "2  Andhra Pradesh     ANANTAPUR       1999  ...  Wheat  439.0       294.0\n",
              "3  Andhra Pradesh     ANANTAPUR       2000  ...  Wheat  520.0       297.0\n",
              "4  Andhra Pradesh     ANANTAPUR       2001  ...  Wheat  307.0       213.0\n",
              "\n",
              "[5 rows x 7 columns]"
            ]
          },
          "metadata": {
            "tags": []
          },
          "execution_count": 4
        }
      ]
    },
    {
      "cell_type": "code",
      "metadata": {
        "id": "DjAqcvKHhT5q",
        "colab_type": "code",
        "colab": {}
      },
      "source": [
        ""
      ],
      "execution_count": null,
      "outputs": []
    },
    {
      "cell_type": "code",
      "metadata": {
        "id": "MypviS0wUaGJ",
        "colab_type": "code",
        "colab": {
          "base_uri": "https://localhost:8080/",
          "height": 406
        },
        "outputId": "bc0a613b-0742-4d05-8bd9-058e32ed75af"
      },
      "source": [
        "from sklearn import preprocessing\n",
        "le = preprocessing.LabelEncoder()\n",
        "df['State_Name'] = le.fit_transform(df['State_Name'])\n",
        "df['District_Name'] = le.fit_transform(df['District_Name'])\n",
        "df['Season'] = le.fit_transform(df['Season'])\n",
        "df['Crop'] = le.fit_transform(df['Crop'])\n",
        "df"
      ],
      "execution_count": null,
      "outputs": [
        {
          "output_type": "execute_result",
          "data": {
            "text/html": [
              "<div>\n",
              "<style scoped>\n",
              "    .dataframe tbody tr th:only-of-type {\n",
              "        vertical-align: middle;\n",
              "    }\n",
              "\n",
              "    .dataframe tbody tr th {\n",
              "        vertical-align: top;\n",
              "    }\n",
              "\n",
              "    .dataframe thead th {\n",
              "        text-align: right;\n",
              "    }\n",
              "</style>\n",
              "<table border=\"1\" class=\"dataframe\">\n",
              "  <thead>\n",
              "    <tr style=\"text-align: right;\">\n",
              "      <th></th>\n",
              "      <th>State_Name</th>\n",
              "      <th>District_Name</th>\n",
              "      <th>Crop_Year</th>\n",
              "      <th>Season</th>\n",
              "      <th>Crop</th>\n",
              "      <th>Area</th>\n",
              "      <th>Production</th>\n",
              "    </tr>\n",
              "  </thead>\n",
              "  <tbody>\n",
              "    <tr>\n",
              "      <th>0</th>\n",
              "      <td>1</td>\n",
              "      <td>24</td>\n",
              "      <td>1997</td>\n",
              "      <td>2</td>\n",
              "      <td>3</td>\n",
              "      <td>300.0</td>\n",
              "      <td>200.0</td>\n",
              "    </tr>\n",
              "    <tr>\n",
              "      <th>1</th>\n",
              "      <td>1</td>\n",
              "      <td>24</td>\n",
              "      <td>1998</td>\n",
              "      <td>2</td>\n",
              "      <td>3</td>\n",
              "      <td>400.0</td>\n",
              "      <td>200.0</td>\n",
              "    </tr>\n",
              "    <tr>\n",
              "      <th>2</th>\n",
              "      <td>1</td>\n",
              "      <td>24</td>\n",
              "      <td>1999</td>\n",
              "      <td>2</td>\n",
              "      <td>3</td>\n",
              "      <td>439.0</td>\n",
              "      <td>294.0</td>\n",
              "    </tr>\n",
              "    <tr>\n",
              "      <th>3</th>\n",
              "      <td>1</td>\n",
              "      <td>24</td>\n",
              "      <td>2000</td>\n",
              "      <td>2</td>\n",
              "      <td>3</td>\n",
              "      <td>520.0</td>\n",
              "      <td>297.0</td>\n",
              "    </tr>\n",
              "    <tr>\n",
              "      <th>4</th>\n",
              "      <td>1</td>\n",
              "      <td>24</td>\n",
              "      <td>2001</td>\n",
              "      <td>2</td>\n",
              "      <td>3</td>\n",
              "      <td>307.0</td>\n",
              "      <td>213.0</td>\n",
              "    </tr>\n",
              "    <tr>\n",
              "      <th>...</th>\n",
              "      <td>...</td>\n",
              "      <td>...</td>\n",
              "      <td>...</td>\n",
              "      <td>...</td>\n",
              "      <td>...</td>\n",
              "      <td>...</td>\n",
              "      <td>...</td>\n",
              "    </tr>\n",
              "    <tr>\n",
              "      <th>82560</th>\n",
              "      <td>32</td>\n",
              "      <td>470</td>\n",
              "      <td>2013</td>\n",
              "      <td>3</td>\n",
              "      <td>1</td>\n",
              "      <td>516.0</td>\n",
              "      <td>1274.0</td>\n",
              "    </tr>\n",
              "    <tr>\n",
              "      <th>82561</th>\n",
              "      <td>32</td>\n",
              "      <td>470</td>\n",
              "      <td>2013</td>\n",
              "      <td>5</td>\n",
              "      <td>1</td>\n",
              "      <td>302274.0</td>\n",
              "      <td>730136.0</td>\n",
              "    </tr>\n",
              "    <tr>\n",
              "      <th>82562</th>\n",
              "      <td>32</td>\n",
              "      <td>470</td>\n",
              "      <td>2014</td>\n",
              "      <td>0</td>\n",
              "      <td>1</td>\n",
              "      <td>264.0</td>\n",
              "      <td>721.0</td>\n",
              "    </tr>\n",
              "    <tr>\n",
              "      <th>82563</th>\n",
              "      <td>32</td>\n",
              "      <td>470</td>\n",
              "      <td>2014</td>\n",
              "      <td>3</td>\n",
              "      <td>1</td>\n",
              "      <td>306.0</td>\n",
              "      <td>801.0</td>\n",
              "    </tr>\n",
              "    <tr>\n",
              "      <th>82564</th>\n",
              "      <td>32</td>\n",
              "      <td>470</td>\n",
              "      <td>2014</td>\n",
              "      <td>5</td>\n",
              "      <td>1</td>\n",
              "      <td>279151.0</td>\n",
              "      <td>597899.0</td>\n",
              "    </tr>\n",
              "  </tbody>\n",
              "</table>\n",
              "<p>82565 rows × 7 columns</p>\n",
              "</div>"
            ],
            "text/plain": [
              "       State_Name  District_Name  Crop_Year  Season  Crop      Area  Production\n",
              "0               1             24       1997       2     3     300.0       200.0\n",
              "1               1             24       1998       2     3     400.0       200.0\n",
              "2               1             24       1999       2     3     439.0       294.0\n",
              "3               1             24       2000       2     3     520.0       297.0\n",
              "4               1             24       2001       2     3     307.0       213.0\n",
              "...           ...            ...        ...     ...   ...       ...         ...\n",
              "82560          32            470       2013       3     1     516.0      1274.0\n",
              "82561          32            470       2013       5     1  302274.0    730136.0\n",
              "82562          32            470       2014       0     1     264.0       721.0\n",
              "82563          32            470       2014       3     1     306.0       801.0\n",
              "82564          32            470       2014       5     1  279151.0    597899.0\n",
              "\n",
              "[82565 rows x 7 columns]"
            ]
          },
          "metadata": {
            "tags": []
          },
          "execution_count": 5
        }
      ]
    },
    {
      "cell_type": "code",
      "metadata": {
        "id": "yfk5LSvyEG47",
        "colab_type": "code",
        "colab": {}
      },
      "source": [
        "X = df.iloc[:,:-1]\n",
        "y = df.iloc[:,6]"
      ],
      "execution_count": null,
      "outputs": []
    },
    {
      "cell_type": "code",
      "metadata": {
        "id": "l_Li38XXijPs",
        "colab_type": "code",
        "colab": {}
      },
      "source": [
        "from sklearn.model_selection import train_test_split\n",
        "X_train, X_test, y_train, y_test = train_test_split(X, y, test_size = 0.2, random_state = 0)"
      ],
      "execution_count": null,
      "outputs": []
    },
    {
      "cell_type": "code",
      "metadata": {
        "id": "eJ1WoNGqivrU",
        "colab_type": "code",
        "colab": {}
      },
      "source": [
        "from sklearn.model_selection import cross_val_score\n",
        "cv_k = 5\n",
        "cv_scoring = 'neg_mean_squared_error'\n",
        "cv_scoring = 'r2'\n"
      ],
      "execution_count": null,
      "outputs": []
    },
    {
      "cell_type": "code",
      "metadata": {
        "id": "sOAAHaLpixkk",
        "colab_type": "code",
        "colab": {}
      },
      "source": [
        "from sklearn.model_selection import KFold\n",
        "kf = KFold(n_splits=cv_k, shuffle=True)"
      ],
      "execution_count": null,
      "outputs": []
    },
    {
      "cell_type": "code",
      "metadata": {
        "id": "9AJwKFzBi3kL",
        "colab_type": "code",
        "colab": {}
      },
      "source": [
        "from sklearn import linear_model\n",
        "from sklearn.preprocessing import PolynomialFeatures\n",
        "from sklearn.ensemble import RandomForestRegressor\n",
        "from sklearn.ensemble import  GradientBoostingRegressor\n",
        "from sklearn import neighbors\n",
        "from sklearn.svm import SVR"
      ],
      "execution_count": null,
      "outputs": []
    },
    {
      "cell_type": "code",
      "metadata": {
        "id": "eO2mun4ZizDa",
        "colab_type": "code",
        "colab": {
          "base_uri": "https://localhost:8080/",
          "height": 52
        },
        "outputId": "df142538-648e-4ff7-e94d-1edb86f07da2"
      },
      "source": [
        "import time\n",
        "now = time.time()\n",
        "est_best = RandomForestRegressor(n_estimators = 10, n_jobs=-1)\n",
        "est_best.fit(X_train, y_train)\n",
        "scores = cross_val_score(est_best, X_train, y_train, cv=kf, scoring=cv_scoring)\n",
        "print(\"Accuracy: %0.4f (+/- %0.4f)\"% (scores.mean(),scores.std()*2))\n",
        "after = time.time()\n",
        "print(\"time: {:5.2f} s\".format(after-now))"
      ],
      "execution_count": null,
      "outputs": [
        {
          "output_type": "stream",
          "text": [
            "Accuracy: 0.9601 (+/- 0.0270)\n",
            "time: 10.88 s\n"
          ],
          "name": "stdout"
        }
      ]
    },
    {
      "cell_type": "code",
      "metadata": {
        "id": "dJEnJAl5i09s",
        "colab_type": "code",
        "colab": {
          "base_uri": "https://localhost:8080/",
          "height": 34
        },
        "outputId": "f8930fcc-03eb-4da6-f3ab-c25b455ad003"
      },
      "source": [
        "y_pred = est_best.predict(X_test)\n",
        "from sklearn.metrics import r2_score\n",
        "score = r2_score(y_test,y_pred)\n",
        "score"
      ],
      "execution_count": null,
      "outputs": [
        {
          "output_type": "execute_result",
          "data": {
            "text/plain": [
              "0.9744864106655372"
            ]
          },
          "metadata": {
            "tags": []
          },
          "execution_count": 12
        }
      ]
    },
    {
      "cell_type": "code",
      "metadata": {
        "id": "CLYcefxbi8nc",
        "colab_type": "code",
        "colab": {
          "base_uri": "https://localhost:8080/",
          "height": 676
        },
        "outputId": "c93a1220-8e1b-49d5-df15-5bd1d2512027"
      },
      "source": [
        "import seaborn as sns\n",
        "plt.figure(figsize=(10, 10))\n",
        "ax = sns.distplot(y_test.values, hist=False, color=\"r\", label=\"Actual Value\")\n",
        "sns.distplot(y_pred, hist=False, color=\"b\", label=\"Predicted Values\" , ax=ax)\n",
        "plt.title('Actual vs Fitted Values for Price')\n",
        "plt.show()\n",
        "plt.close()"
      ],
      "execution_count": null,
      "outputs": [
        {
          "output_type": "stream",
          "text": [
            "/usr/local/lib/python3.6/dist-packages/statsmodels/tools/_testing.py:19: FutureWarning: pandas.util.testing is deprecated. Use the functions in the public API at pandas.testing instead.\n",
            "  import pandas.util.testing as tm\n"
          ],
          "name": "stderr"
        },
        {
          "output_type": "display_data",
          "data": {
            "image/png": "[encoded data removed]",
            "text/plain": [
              "<Figure size 720x720 with 1 Axes>"
            ]
          },
          "metadata": {
            "tags": [],
            "needs_background": "light"
          }
        }
      ]
    },
    {
      "cell_type": "code",
      "metadata": {
        "id": "ma2-RgB3kxth",
        "colab_type": "code",
        "colab": {
          "base_uri": "https://localhost:8080/",
          "height": 293
        },
        "outputId": "2d550bea-d761-43f6-ffc3-40de9ac2da07"
      },
      "source": [
        "plt.plot(y_test.values)\n",
        "plt.plot(y_pred)"
      ],
      "execution_count": null,
      "outputs": [
        {
          "output_type": "execute_result",
          "data": {
            "text/plain": [
              "[<matplotlib.lines.Line2D at 0x7f09043e7c50>]"
            ]
          },
          "metadata": {
            "tags": []
          },
          "execution_count": 14
        },
        {
          "output_type": "display_data",
          "data": {
            "image/png": "[encoded data removed]",
            "text/plain": [
              "<Figure size 432x288 with 1 Axes>"
            ]
          },
          "metadata": {
            "tags": [],
            "needs_background": "light"
          }
        }
      ]
    },
    {
      "cell_type": "code",
      "metadata": {
        "id": "kj_mBviTk5bt",
        "colab_type": "code",
        "colab": {
          "base_uri": "https://localhost:8080/",
          "height": 613
        },
        "outputId": "cf5251a7-e3cf-40a6-a02e-1a7ae3759e00"
      },
      "source": [
        "df1 = pd.DataFrame({'Actual': y_test.values, 'Predicted': y_pred})\n",
        "df1 = df1.sample(25)\n",
        "df1.plot(kind='bar',figsize=(16,10))\n",
        "plt.grid(which='major', linestyle='-', linewidth='0.5', color='green')\n",
        "plt.grid(which='minor', linestyle=':', linewidth='0.5', color='black')\n",
        "plt.show()"
      ],
      "execution_count": null,
      "outputs": [
        {
          "output_type": "display_data",
          "data": {
            "image/png": "[encoded data removed]",
            "text/plain": [
              "<Figure size 1152x720 with 1 Axes>"
            ]
          },
          "metadata": {
            "tags": [],
            "needs_background": "light"
          }
        }
      ]
    },
    {
      "cell_type": "code",
      "metadata": {
        "id": "pe5_uLRrliUF",
        "colab_type": "code",
        "colab": {
          "base_uri": "https://localhost:8080/",
          "height": 107
        },
        "outputId": "c43e28d1-f9b4-453f-8a5d-93b5af15de11"
      },
      "source": [
        "df_re = pd.read_csv('/content/crop.csv', sep=',', encoding = 'utf-8-sig')\n",
        "lel = preprocessing.LabelEncoder()\n",
        "lel.fit(df_re['State_Name'])\n",
        "le_state_mapping = dict(zip(lel.classes_, lel.transform(lel.classes_)))\n",
        "print(le_state_mapping)\n",
        "lel.fit(df_re['District_Name'])\n",
        "le_district_mapping = dict(zip(lel.classes_, lel.transform(lel.classes_)))\n",
        "print(le_district_mapping)\n",
        "lel.fit(df_re['Season'])\n",
        "le_season_mapping = dict(zip(lel.classes_, lel.transform(lel.classes_)))\n",
        "print(le_season_mapping)\n",
        "lel.fit(df_re['Crop'])\n",
        "le_crop_mapping = dict(zip(lel.classes_, lel.transform(lel.classes_)))\n",
        "print(le_crop_mapping)\n"
      ],
      "execution_count": null,
      "outputs": [
        {
          "output_type": "stream",
          "text": [
            "{'Andaman and Nicobar Islands': 0, 'Andhra Pradesh': 1, 'Arunachal Pradesh': 2, 'Assam': 3, 'Bihar': 4, 'Chandigarh': 5, 'Chhattisgarh': 6, 'Dadra and Nagar Haveli': 7, 'Goa': 8, 'Gujarat': 9, 'Haryana': 10, 'Himachal Pradesh': 11, 'Jammu and Kashmir ': 12, 'Jharkhand': 13, 'Karnataka': 14, 'Kerala': 15, 'Madhya Pradesh': 16, 'Maharashtra': 17, 'Manipur': 18, 'Meghalaya': 19, 'Mizoram': 20, 'Nagaland': 21, 'Odisha': 22, 'Puducherry': 23, 'Punjab': 24, 'Rajasthan': 25, 'Sikkim': 26, 'Tamil Nadu': 27, 'Telangana ': 28, 'Tripura': 29, 'Uttar Pradesh': 30, 'Uttarakhand': 31, 'West Bengal': 32}\n",
            "{'24 PARAGANAS NORTH': 0, '24 PARAGANAS SOUTH': 1, 'ADILABAD': 2, 'AGAR MALWA': 3, 'AGRA': 4, 'AHMADABAD': 5, 'AHMEDNAGAR': 6, 'AIZAWL': 7, 'AJMER': 8, 'AKOLA': 9, 'ALAPPUZHA': 10, 'ALIGARH': 11, 'ALIRAJPUR': 12, 'ALLAHABAD': 13, 'ALMORA': 14, 'ALWAR': 15, 'AMBALA': 16, 'AMBEDKAR NAGAR': 17, 'AMETHI': 18, 'AMRAVATI': 19, 'AMRELI': 20, 'AMRITSAR': 21, 'AMROHA': 22, 'ANAND': 23, 'ANANTAPUR': 24, 'ANANTNAG': 25, 'ANJAW': 26, 'ANUGUL': 27, 'ANUPPUR': 28, 'ARARIA': 29, 'ARIYALUR': 30, 'ARWAL': 31, 'ASHOKNAGAR': 32, 'AURAIYA': 33, 'AURANGABAD': 34, 'AZAMGARH': 35, 'BADGAM': 36, 'BAGALKOT': 37, 'BAGESHWAR': 38, 'BAGHPAT': 39, 'BAHRAICH': 40, 'BAKSA': 41, 'BALAGHAT': 42, 'BALANGIR': 43, 'BALESHWAR': 44, 'BALLIA': 45, 'BALOD': 46, 'BALODA BAZAR': 47, 'BALRAMPUR': 48, 'BANAS KANTHA': 49, 'BANDA': 50, 'BANDIPORA': 51, 'BANGALORE RURAL': 52, 'BANKA': 53, 'BANKURA': 54, 'BANSWARA': 55, 'BARABANKI': 56, 'BARAMULLA': 57, 'BARAN': 58, 'BARDHAMAN': 59, 'BAREILLY': 60, 'BARGARH': 61, 'BARMER': 62, 'BARNALA': 63, 'BARPETA': 64, 'BARWANI': 65, 'BASTAR': 66, 'BASTI': 67, 'BATHINDA': 68, 'BEED': 69, 'BEGUSARAI': 70, 'BELGAUM': 71, 'BELLARY': 72, 'BEMETARA': 73, 'BENGALURU URBAN': 74, 'BETUL': 75, 'BHADRAK': 76, 'BHAGALPUR': 77, 'BHANDARA': 78, 'BHARATPUR': 79, 'BHARUCH': 80, 'BHAVNAGAR': 81, 'BHILWARA': 82, 'BHIND': 83, 'BHIWANI': 84, 'BHOJPUR': 85, 'BHOPAL': 86, 'BIDAR': 87, 'BIJAPUR': 88, 'BIJNOR': 89, 'BIKANER': 90, 'BILASPUR': 91, 'BIRBHUM': 92, 'BISHNUPUR': 93, 'BOKARO': 94, 'BONGAIGAON': 95, 'BOUDH': 96, 'BUDAUN': 97, 'BULANDSHAHR': 98, 'BULDHANA': 99, 'BUNDI': 100, 'BURHANPUR': 101, 'BUXAR': 102, 'CACHAR': 103, 'CHAMARAJANAGAR': 104, 'CHAMBA': 105, 'CHAMOLI': 106, 'CHAMPAWAT': 107, 'CHAMPHAI': 108, 'CHANDAULI': 109, 'CHANDEL': 110, 'CHANDIGARH': 111, 'CHANDRAPUR': 112, 'CHANGLANG': 113, 'CHATRA': 114, 'CHHATARPUR': 115, 'CHHINDWARA': 116, 'CHIKBALLAPUR': 117, 'CHIKMAGALUR': 118, 'CHIRANG': 119, 'CHITRADURGA': 120, 'CHITRAKOOT': 121, 'CHITTOOR': 122, 'CHITTORGARH': 123, 'CHURACHANDPUR': 124, 'CHURU': 125, 'COIMBATORE': 126, 'COOCHBEHAR': 127, 'CUDDALORE': 128, 'CUTTACK': 129, 'DADRA AND NAGAR HAVELI': 130, 'DAKSHIN KANNAD': 131, 'DAMOH': 132, 'DANG': 133, 'DANTEWADA': 134, 'DARBHANGA': 135, 'DARJEELING': 136, 'DARRANG': 137, 'DATIA': 138, 'DAUSA': 139, 'DAVANGERE': 140, 'DEHRADUN': 141, 'DEOGARH': 142, 'DEOGHAR': 143, 'DEORIA': 144, 'DEWAS': 145, 'DHALAI': 146, 'DHAMTARI': 147, 'DHANBAD': 148, 'DHAR': 149, 'DHARMAPURI': 150, 'DHARWAD': 151, 'DHEMAJI': 152, 'DHENKANAL': 153, 'DHOLPUR': 154, 'DHUBRI': 155, 'DHULE': 156, 'DIBANG VALLEY': 157, 'DIBRUGARH': 158, 'DIMA HASAO': 159, 'DIMAPUR': 160, 'DINAJPUR DAKSHIN': 161, 'DINAJPUR UTTAR': 162, 'DINDIGUL': 163, 'DINDORI': 164, 'DODA': 165, 'DOHAD': 166, 'DUMKA': 167, 'DUNGARPUR': 168, 'DURG': 169, 'EAST DISTRICT': 170, 'EAST GARO HILLS': 171, 'EAST GODAVARI': 172, 'EAST JAINTIA HILLS': 173, 'EAST KAMENG': 174, 'EAST KHASI HILLS': 175, 'EAST SIANG': 176, 'EAST SINGHBUM': 177, 'ERNAKULAM': 178, 'ERODE': 179, 'ETAH': 180, 'ETAWAH': 181, 'FAIZABAD': 182, 'FARIDABAD': 183, 'FARIDKOT': 184, 'FARRUKHABAD': 185, 'FATEHABAD': 186, 'FATEHGARH SAHIB': 187, 'FATEHPUR': 188, 'FAZILKA': 189, 'FIROZABAD': 190, 'FIROZEPUR': 191, 'GADAG': 192, 'GADCHIROLI': 193, 'GAJAPATI': 194, 'GANDERBAL': 195, 'GANDHINAGAR': 196, 'GANGANAGAR': 197, 'GANJAM': 198, 'GARHWA': 199, 'GARIYABAND': 200, 'GAUTAM BUDDHA NAGAR': 201, 'GAYA': 202, 'GHAZIABAD': 203, 'GHAZIPUR': 204, 'GIRIDIH': 205, 'GOALPARA': 206, 'GODDA': 207, 'GOLAGHAT': 208, 'GOMATI': 209, 'GONDA': 210, 'GONDIA': 211, 'GOPALGANJ': 212, 'GORAKHPUR': 213, 'GULBARGA': 214, 'GUMLA': 215, 'GUNA': 216, 'GUNTUR': 217, 'GURDASPUR': 218, 'GURGAON': 219, 'GWALIOR': 220, 'HAILAKANDI': 221, 'HAMIRPUR': 222, 'HANUMANGARH': 223, 'HAPUR': 224, 'HARDA': 225, 'HARDOI': 226, 'HARIDWAR': 227, 'HASSAN': 228, 'HATHRAS': 229, 'HAVERI': 230, 'HAZARIBAGH': 231, 'HINGOLI': 232, 'HISAR': 233, 'HOOGHLY': 234, 'HOSHANGABAD': 235, 'HOSHIARPUR': 236, 'HOWRAH': 237, 'HYDERABAD': 238, 'IDUKKI': 239, 'IMPHAL EAST': 240, 'IMPHAL WEST': 241, 'INDORE': 242, 'JABALPUR': 243, 'JAGATSINGHAPUR': 244, 'JAIPUR': 245, 'JAISALMER': 246, 'JAJAPUR': 247, 'JALANDHAR': 248, 'JALAUN': 249, 'JALGAON': 250, 'JALNA': 251, 'JALORE': 252, 'JALPAIGURI': 253, 'JAMMU': 254, 'JAMNAGAR': 255, 'JAMTARA': 256, 'JAMUI': 257, 'JANJGIR-CHAMPA': 258, 'JASHPUR': 259, 'JAUNPUR': 260, 'JEHANABAD': 261, 'JHABUA': 262, 'JHAJJAR': 263, 'JHALAWAR': 264, 'JHANSI': 265, 'JHARSUGUDA': 266, 'JHUNJHUNU': 267, 'JIND': 268, 'JODHPUR': 269, 'JORHAT': 270, 'JUNAGADH': 271, 'KABIRDHAM': 272, 'KACHCHH': 273, 'KADAPA': 274, 'KAIMUR (BHABUA)': 275, 'KAITHAL': 276, 'KALAHANDI': 277, 'KAMRUP': 278, 'KAMRUP METRO': 279, 'KANCHIPURAM': 280, 'KANDHAMAL': 281, 'KANGRA': 282, 'KANKER': 283, 'KANNAUJ': 284, 'KANNIYAKUMARI': 285, 'KANNUR': 286, 'KANPUR DEHAT': 287, 'KANPUR NAGAR': 288, 'KAPURTHALA': 289, 'KARAIKAL': 290, 'KARAULI': 291, 'KARBI ANGLONG': 292, 'KARGIL': 293, 'KARIMGANJ': 294, 'KARIMNAGAR': 295, 'KARNAL': 296, 'KARUR': 297, 'KASARAGOD': 298, 'KASGANJ': 299, 'KATHUA': 300, 'KATIHAR': 301, 'KATNI': 302, 'KAUSHAMBI': 303, 'KENDRAPARA': 304, 'KENDUJHAR': 305, 'KHAGARIA': 306, 'KHAMMAM': 307, 'KHANDWA': 308, 'KHARGONE': 309, 'KHEDA': 310, 'KHERI': 311, 'KHORDHA': 312, 'KHOWAI': 313, 'KHUNTI': 314, 'KINNAUR': 315, 'KIPHIRE': 316, 'KISHANGANJ': 317, 'KISHTWAR': 318, 'KODAGU': 319, 'KODERMA': 320, 'KOHIMA': 321, 'KOKRAJHAR': 322, 'KOLAR': 323, 'KOLASIB': 324, 'KOLHAPUR': 325, 'KOLLAM': 326, 'KONDAGAON': 327, 'KOPPAL': 328, 'KORAPUT': 329, 'KORBA': 330, 'KOREA': 331, 'KOTA': 332, 'KOTTAYAM': 333, 'KOZHIKODE': 334, 'KRISHNA': 335, 'KRISHNAGIRI': 336, 'KULGAM': 337, 'KULLU': 338, 'KUPWARA': 339, 'KURNOOL': 340, 'KURUKSHETRA': 341, 'KURUNG KUMEY': 342, 'KUSHI NAGAR': 343, 'LAHUL AND SPITI': 344, 'LAKHIMPUR': 345, 'LAKHISARAI': 346, 'LALITPUR': 347, 'LATEHAR': 348, 'LATUR': 349, 'LAWNGTLAI': 350, 'LEH LADAKH': 351, 'LOHARDAGA': 352, 'LOHIT': 353, 'LONGDING': 354, 'LONGLENG': 355, 'LOWER DIBANG VALLEY': 356, 'LOWER SUBANSIRI': 357, 'LUCKNOW': 358, 'LUDHIANA': 359, 'LUNGLEI': 360, 'MADHEPURA': 361, 'MADHUBANI': 362, 'MADURAI': 363, 'MAHARAJGANJ': 364, 'MAHASAMUND': 365, 'MAHBUBNAGAR': 366, 'MAHE': 367, 'MAHENDRAGARH': 368, 'MAHESANA': 369, 'MAHOBA': 370, 'MAINPURI': 371, 'MALAPPURAM': 372, 'MALDAH': 373, 'MALKANGIRI': 374, 'MAMIT': 375, 'MANDI': 376, 'MANDLA': 377, 'MANDSAUR': 378, 'MANDYA': 379, 'MANSA': 380, 'MARIGAON': 381, 'MATHURA': 382, 'MAU': 383, 'MAYURBHANJ': 384, 'MEDAK': 385, 'MEDINIPUR EAST': 386, 'MEDINIPUR WEST': 387, 'MEERUT': 388, 'MEWAT': 389, 'MIRZAPUR': 390, 'MOGA': 391, 'MOKOKCHUNG': 392, 'MON': 393, 'MORADABAD': 394, 'MORENA': 395, 'MUKTSAR': 396, 'MUMBAI': 397, 'MUNGELI': 398, 'MUNGER': 399, 'MURSHIDABAD': 400, 'MUZAFFARNAGAR': 401, 'MUZAFFARPUR': 402, 'MYSORE': 403, 'NABARANGPUR': 404, 'NADIA': 405, 'NAGAON': 406, 'NAGAPATTINAM': 407, 'NAGAUR': 408, 'NAGPUR': 409, 'NAINITAL': 410, 'NALANDA': 411, 'NALBARI': 412, 'NALGONDA': 413, 'NAMAKKAL': 414, 'NANDED': 415, 'NANDURBAR': 416, 'NARAYANPUR': 417, 'NARMADA': 418, 'NARSINGHPUR': 419, 'NASHIK': 420, 'NAVSARI': 421, 'NAWADA': 422, 'NAWANSHAHR': 423, 'NAYAGARH': 424, 'NEEMUCH': 425, 'NICOBARS': 426, 'NIZAMABAD': 427, 'NORTH AND MIDDLE ANDAMAN': 428, 'NORTH DISTRICT': 429, 'NORTH GARO HILLS': 430, 'NORTH GOA': 431, 'NORTH TRIPURA': 432, 'NUAPADA': 433, 'OSMANABAD': 434, 'PAKUR': 435, 'PALAKKAD': 436, 'PALAMU': 437, 'PALGHAR': 438, 'PALI': 439, 'PALWAL': 440, 'PANCH MAHALS': 441, 'PANCHKULA': 442, 'PANIPAT': 443, 'PANNA': 444, 'PAPUM PARE': 445, 'PARBHANI': 446, 'PASHCHIM CHAMPARAN': 447, 'PATAN': 448, 'PATHANAMTHITTA': 449, 'PATHANKOT': 450, 'PATIALA': 451, 'PATNA': 452, 'PAURI GARHWAL': 453, 'PERAMBALUR': 454, 'PEREN': 455, 'PHEK': 456, 'PILIBHIT': 457, 'PITHORAGARH': 458, 'PONDICHERRY': 459, 'POONCH': 460, 'PORBANDAR': 461, 'PRAKASAM': 462, 'PRATAPGARH': 463, 'PUDUKKOTTAI': 464, 'PULWAMA': 465, 'PUNE': 466, 'PURBI CHAMPARAN': 467, 'PURI': 468, 'PURNIA': 469, 'PURULIA': 470, 'RAE BARELI': 471, 'RAICHUR': 472, 'RAIGAD': 473, 'RAIGARH': 474, 'RAIPUR': 475, 'RAISEN': 476, 'RAJAURI': 477, 'RAJGARH': 478, 'RAJKOT': 479, 'RAJNANDGAON': 480, 'RAJSAMAND': 481, 'RAMANAGARA': 482, 'RAMANATHAPURAM': 483, 'RAMBAN': 484, 'RAMGARH': 485, 'RAMPUR': 486, 'RANCHI': 487, 'RANGAREDDI': 488, 'RATLAM': 489, 'RATNAGIRI': 490, 'RAYAGADA': 491, 'REASI': 492, 'REWA': 493, 'REWARI': 494, 'RI BHOI': 495, 'ROHTAK': 496, 'ROHTAS': 497, 'RUDRA PRAYAG': 498, 'RUPNAGAR': 499, 'S.A.S NAGAR': 500, 'SABAR KANTHA': 501, 'SAGAR': 502, 'SAHARANPUR': 503, 'SAHARSA': 504, 'SAHEBGANJ': 505, 'SAIHA': 506, 'SALEM': 507, 'SAMASTIPUR': 508, 'SAMBA': 509, 'SAMBALPUR': 510, 'SAMBHAL': 511, 'SANGLI': 512, 'SANGRUR': 513, 'SANT KABEER NAGAR': 514, 'SANT RAVIDAS NAGAR': 515, 'SARAIKELA KHARSAWAN': 516, 'SARAN': 517, 'SATARA': 518, 'SATNA': 519, 'SAWAI MADHOPUR': 520, 'SEHORE': 521, 'SENAPATI': 522, 'SEONI': 523, 'SEPAHIJALA': 524, 'SERCHHIP': 525, 'SHAHDOL': 526, 'SHAHJAHANPUR': 527, 'SHAJAPUR': 528, 'SHAMLI': 529, 'SHEIKHPURA': 530, 'SHEOHAR': 531, 'SHEOPUR': 532, 'SHIMLA': 533, 'SHIMOGA': 534, 'SHIVPURI': 535, 'SHOPIAN': 536, 'SHRAVASTI': 537, 'SIDDHARTH NAGAR': 538, 'SIDHI': 539, 'SIKAR': 540, 'SIMDEGA': 541, 'SINDHUDURG': 542, 'SINGRAULI': 543, 'SIRMAUR': 544, 'SIROHI': 545, 'SIRSA': 546, 'SITAMARHI': 547, 'SITAPUR': 548, 'SIVAGANGA': 549, 'SIVASAGAR': 550, 'SIWAN': 551, 'SOLAN': 552, 'SOLAPUR': 553, 'SONBHADRA': 554, 'SONEPUR': 555, 'SONIPAT': 556, 'SONITPUR': 557, 'SOUTH ANDAMANS': 558, 'SOUTH DISTRICT': 559, 'SOUTH GARO HILLS': 560, 'SOUTH GOA': 561, 'SOUTH TRIPURA': 562, 'SOUTH WEST GARO HILLS': 563, 'SOUTH WEST KHASI HILLS': 564, 'SPSR NELLORE': 565, 'SRIKAKULAM': 566, 'SRINAGAR': 567, 'SUKMA': 568, 'SULTANPUR': 569, 'SUNDARGARH': 570, 'SUPAUL': 571, 'SURAJPUR': 572, 'SURAT': 573, 'SURENDRANAGAR': 574, 'SURGUJA': 575, 'TAMENGLONG': 576, 'TAPI': 577, 'TARN TARAN': 578, 'TAWANG': 579, 'TEHRI GARHWAL': 580, 'THANE': 581, 'THANJAVUR': 582, 'THE NILGIRIS': 583, 'THENI': 584, 'THIRUVALLUR': 585, 'THIRUVANANTHAPURAM': 586, 'THIRUVARUR': 587, 'THOUBAL': 588, 'THRISSUR': 589, 'TIKAMGARH': 590, 'TINSUKIA': 591, 'TIRAP': 592, 'TIRUCHIRAPPALLI': 593, 'TIRUNELVELI': 594, 'TIRUPPUR': 595, 'TIRUVANNAMALAI': 596, 'TONK': 597, 'TUENSANG': 598, 'TUMKUR': 599, 'TUTICORIN': 600, 'UDAIPUR': 601, 'UDALGURI': 602, 'UDAM SINGH NAGAR': 603, 'UDHAMPUR': 604, 'UDUPI': 605, 'UJJAIN': 606, 'UKHRUL': 607, 'UMARIA': 608, 'UNA': 609, 'UNAKOTI': 610, 'UNNAO': 611, 'UPPER SIANG': 612, 'UPPER SUBANSIRI': 613, 'UTTAR KANNAD': 614, 'UTTAR KASHI': 615, 'VADODARA': 616, 'VAISHALI': 617, 'VALSAD': 618, 'VARANASI': 619, 'VELLORE': 620, 'VIDISHA': 621, 'VILLUPURAM': 622, 'VIRUDHUNAGAR': 623, 'VISAKHAPATANAM': 624, 'VIZIANAGARAM': 625, 'WARANGAL': 626, 'WARDHA': 627, 'WASHIM': 628, 'WAYANAD': 629, 'WEST DISTRICT': 630, 'WEST GARO HILLS': 631, 'WEST GODAVARI': 632, 'WEST JAINTIA HILLS': 633, 'WEST KAMENG': 634, 'WEST KHASI HILLS': 635, 'WEST SIANG': 636, 'WEST SINGHBHUM': 637, 'WEST TRIPURA': 638, 'WOKHA': 639, 'YADGIR': 640, 'YAMUNANAGAR': 641, 'YANAM': 642, 'YAVATMAL': 643, 'ZUNHEBOTO': 644}\n",
            "{'Autumn     ': 0, 'Kharif     ': 1, 'Rabi       ': 2, 'Summer     ': 3, 'Whole Year ': 4, 'Winter     ': 5}\n",
            "{'Maize': 0, 'Rice': 1, 'Sugarcane': 2, 'Wheat': 3}\n"
          ],
          "name": "stdout"
        }
      ]
    },
    {
      "cell_type": "code",
      "metadata": {
        "id": "lG3MadN5neYA",
        "colab_type": "code",
        "colab": {
          "base_uri": "https://localhost:8080/",
          "height": 87
        },
        "outputId": "a90fef60-2c2a-483b-8479-33809e53e83d"
      },
      "source": [
        "print(le_district_mapping[\"BATHINDA\"])\n",
        "print(le_state_mapping[\"Punjab\"])\n",
        "print(le_season_mapping[\"Kharif     \"])\n",
        "print(le_crop_mapping[\"Wheat\"])\n"
      ],
      "execution_count": null,
      "outputs": [
        {
          "output_type": "stream",
          "text": [
            "68\n",
            "24\n",
            "1\n",
            "3\n"
          ],
          "name": "stdout"
        }
      ]
    },
    {
      "cell_type": "code",
      "metadata": {
        "id": "f1l9Va5Tnm_W",
        "colab_type": "code",
        "colab": {
          "base_uri": "https://localhost:8080/",
          "height": 52
        },
        "outputId": "a00a8cd8-9d94-41c8-9e4e-d973d3705390"
      },
      "source": [
        "#Prediction of Bhatinda Punjab\n",
        "re = np.array([24,68,2019,2,3,400])\n",
        "a = est_best.predict(re.reshape(1,-1))\n",
        "print(\"Crop Yield:\",a[0],\"Qunital\")\n",
        "sp = (a[0]*5.4/3.45)\n",
        "print(\"Total Stubble Produced:\",sp,\"Qunital\")"
      ],
      "execution_count": null,
      "outputs": [
        {
          "output_type": "stream",
          "text": [
            "Crop Yield: 156927.1 Qunital\n",
            "Total Stubble Produced: 245625.02608695652 Qunital\n"
          ],
          "name": "stdout"
        }
      ]
    },
    {
      "cell_type": "code",
      "metadata": {
        "id": "TaRs9xXInzsO",
        "colab_type": "code",
        "colab": {}
      },
      "source": [
        ""
      ],
      "execution_count": null,
      "outputs": []
    }
  ]
}